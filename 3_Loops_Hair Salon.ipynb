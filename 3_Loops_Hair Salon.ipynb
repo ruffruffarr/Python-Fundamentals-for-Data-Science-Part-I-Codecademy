{
 "cells": [
  {
   "cell_type": "code",
   "execution_count": 1,
   "id": "60971cfd",
   "metadata": {},
   "outputs": [],
   "source": [
    "#Create a list of hairstyles offered at Carly's Clippers\n",
    "hairstyles = [\"bouffant\", \"pixie\", \"dreadlocks\", \"crew\", \"bowl\", \"bob\", \"mohawk\", \"flattop\"]"
   ]
  },
  {
   "cell_type": "code",
   "execution_count": 2,
   "id": "6e5a9227",
   "metadata": {},
   "outputs": [],
   "source": [
    "#Create a list of prices for the corresponding hairstyles\n",
    "prices = [30, 25, 40, 20, 20, 35, 50, 35]"
   ]
  },
  {
   "cell_type": "code",
   "execution_count": 3,
   "id": "77aa03d5",
   "metadata": {},
   "outputs": [],
   "source": [
    "#Create a list of purchases for each corresponding hairstyle\n",
    "last_week = [2, 3, 5, 8, 4, 4, 6, 2]"
   ]
  },
  {
   "cell_type": "code",
   "execution_count": 4,
   "id": "731ecf03",
   "metadata": {},
   "outputs": [],
   "source": [
    "#Find the total price of all haircuts \n",
    "total_price = 0\n",
    "for price in prices:\n",
    "    total_price += price"
   ]
  },
  {
   "cell_type": "code",
   "execution_count": 9,
   "id": "b13ef32d",
   "metadata": {},
   "outputs": [
    {
     "name": "stdout",
     "output_type": "stream",
     "text": [
      "Average haircut prices at Carly's Clippers is: $31.875.\n"
     ]
    }
   ],
   "source": [
    "#Find the average price of haircuts\n",
    "average_price = total_price/len(prices)\n",
    "print(\"Average haircut prices at Carly's Clippers is: $\" + str(average_price) + \".\")"
   ]
  },
  {
   "cell_type": "code",
   "execution_count": 7,
   "id": "9b235a08",
   "metadata": {},
   "outputs": [
    {
     "name": "stdout",
     "output_type": "stream",
     "text": [
      "[25, 20, 35, 15, 15, 30, 45, 30]\n"
     ]
    }
   ],
   "source": [
    "#Reduce price of all haircuts by 5 each\n",
    "new_prices = [price - 5 for price in prices]\n",
    "print(new_prices)"
   ]
  },
  {
   "cell_type": "code",
   "execution_count": 8,
   "id": "d26b5d72",
   "metadata": {},
   "outputs": [
    {
     "name": "stdout",
     "output_type": "stream",
     "text": [
      "The total revenue last week was: $1085.\n"
     ]
    }
   ],
   "source": [
    "#Calculate last week's revenue\n",
    "total_revenue = 0\n",
    "for i in range(len(hairstyles)):\n",
    "    total_revenue += prices[i] * last_week[i]\n",
    "print(\"The total revenue last week was: $\" + str(total_revenue) + \".\")"
   ]
  },
  {
   "cell_type": "code",
   "execution_count": 11,
   "id": "362030b6",
   "metadata": {},
   "outputs": [
    {
     "name": "stdout",
     "output_type": "stream",
     "text": [
      "$155.0\n"
     ]
    }
   ],
   "source": [
    "#The average daily revenue from last week\n",
    "average_daily_revenue = total_revenue/7\n",
    "print(\"$\" + str(average_daily_revenue))"
   ]
  },
  {
   "cell_type": "code",
   "execution_count": 12,
   "id": "7e21d29a",
   "metadata": {},
   "outputs": [
    {
     "name": "stdout",
     "output_type": "stream",
     "text": [
      "This is a list of hairstyles that are under $30: ['bouffant', 'pixie', 'crew', 'bowl']\n"
     ]
    }
   ],
   "source": [
    "#Create a list of hairstyles under 30 \n",
    "cuts_under_30 = [hairstyles[i] for i in range(len(hairstyles)) if new_prices[i] < 30]\n",
    "print(\"This is a list of hairstyles that are under $30: \" + str(cuts_under_30))\n"
   ]
  },
  {
   "cell_type": "code",
   "execution_count": null,
   "id": "00933067",
   "metadata": {},
   "outputs": [],
   "source": []
  }
 ],
 "metadata": {
  "kernelspec": {
   "display_name": "Python 3 (ipykernel)",
   "language": "python",
   "name": "python3"
  },
  "language_info": {
   "codemirror_mode": {
    "name": "ipython",
    "version": 3
   },
   "file_extension": ".py",
   "mimetype": "text/x-python",
   "name": "python",
   "nbconvert_exporter": "python",
   "pygments_lexer": "ipython3",
   "version": "3.11.5"
  }
 },
 "nbformat": 4,
 "nbformat_minor": 5
}
